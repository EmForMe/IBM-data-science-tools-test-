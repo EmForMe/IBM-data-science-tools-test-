{
 "cells": [
  {
   "cell_type": "markdown",
   "id": "445536bb",
   "metadata": {},
   "source": [
    "# Data Science Tools and Ecosystem"
   ]
  },
  {
   "cell_type": "markdown",
   "id": "6cab9737",
   "metadata": {},
   "source": [
    "In this notebook, Data Science Tools and Ecosystem are summarized."
   ]
  },
  {
   "cell_type": "markdown",
   "id": "aaf1b869",
   "metadata": {},
   "source": [
    "# Objectives:\n",
    "- languages in Data Science\n",
    "- Libraries in Data Scieence \n",
    "- Data Science tools \n",
    "- arithmetic in Jupyter Notebooks "
   ]
  },
  {
   "cell_type": "markdown",
   "id": "68e76439",
   "metadata": {},
   "source": [
    "Some of the popular languages that Data Scientists use are:\n",
    "1. Java\n",
    "2. C++\n",
    "3. SQL\n"
   ]
  },
  {
   "cell_type": "markdown",
   "id": "5c132fe2",
   "metadata": {},
   "source": [
    "Some of the commonly used libraries used by Data Scientists include:\n",
    "1. Pandas\n",
    "2. Numpy\n",
    "3. Pytourch"
   ]
  },
  {
   "cell_type": "markdown",
   "id": "ef15bd02",
   "metadata": {},
   "source": [
    "Data Science Tools\n",
    "---------------------------\n",
    "Jupyter Notebooks\n",
    "RStudio\n",
    "GitHub"
   ]
  },
  {
   "cell_type": "markdown",
   "id": "3737244f",
   "metadata": {},
   "source": [
    "### Below are a few examples of evaluating arithmetic expressions in Python."
   ]
  },
  {
   "cell_type": "code",
   "execution_count": 2,
   "id": "58642b01",
   "metadata": {},
   "outputs": [
    {
     "data": {
      "text/plain": [
       "17"
      ]
     },
     "execution_count": 2,
     "metadata": {},
     "output_type": "execute_result"
    }
   ],
   "source": [
    "#This a simple arithmetic expression to mutiply then add integers\n",
    "(3*4)+5"
   ]
  },
  {
   "cell_type": "code",
   "execution_count": 3,
   "id": "168cc2dc",
   "metadata": {},
   "outputs": [
    {
     "data": {
      "text/plain": [
       "3.3333333333333335"
      ]
     },
     "execution_count": 3,
     "metadata": {},
     "output_type": "execute_result"
    }
   ],
   "source": [
    "# This will convert 200 minutes to hours by diving by 60\n",
    "200/60"
   ]
  },
  {
   "cell_type": "markdown",
   "id": "86c5ac5f",
   "metadata": {},
   "source": [
    "## Author\n",
    "EmForMe"
   ]
  }
 ],
 "metadata": {
  "kernelspec": {
   "display_name": "Python 3 (ipykernel)",
   "language": "python",
   "name": "python3"
  },
  "language_info": {
   "codemirror_mode": {
    "name": "ipython",
    "version": 3
   },
   "file_extension": ".py",
   "mimetype": "text/x-python",
   "name": "python",
   "nbconvert_exporter": "python",
   "pygments_lexer": "ipython3",
   "version": "3.11.4"
  }
 },
 "nbformat": 4,
 "nbformat_minor": 5
}
